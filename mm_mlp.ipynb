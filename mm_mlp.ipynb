{
 "cells": [
  {
   "cell_type": "code",
   "execution_count": 1,
   "metadata": {},
   "outputs": [],
   "source": [
    "import torch\n",
    "import random\n",
    "import torch.nn.functional as F\n",
    "import matplotlib.pyplot as plt\n",
    "%matplotlib inline"
   ]
  },
  {
   "cell_type": "markdown",
   "metadata": {},
   "source": [
    "## **Task**\n",
    "\n",
    "We want to train an MLP to learn the construction of names. To achieve this we want to maximise the likelihood of the $N$ names observed in the dataset:\n",
    "\n",
    "$$\n",
    "\\max_{\\theta} \\sum_{i=1}^{N} \\hat{p}(\\mathbf{x}_i) = \\max_{\\theta} \\sum_{i=1}^{N} \\prod_{j=1}^{M_i} \\hat{p}(x_j | x_{j-1}, x_{j-2}, x_{j-3}; \\theta)\n",
    "$$\n",
    "\n",
    "In particular, we choose to break down the probability of a name into the product of the conditional probabilities of each character given a three-letter context window (we use '.' as the special token to pad the start and end of a name). For example, the name \"John\" would give us the following data points:\n",
    "\n",
    "* ... $\\rightarrow$ J\n",
    "* ..J $\\rightarrow$ o\n",
    "* .Jo $\\rightarrow$ h\n",
    "* Joh $\\rightarrow$ n\n",
    "* ohn $\\rightarrow$ .\n",
    "\n",
    "We begin by constructing a training set of such data points from all the names in the dataset. We then use the negative log-likelihood of the data as the loss function to be minimized. See `mm_intro.ipynb` for more details."
   ]
  },
  {
   "cell_type": "markdown",
   "metadata": {},
   "source": [
    "# **Dataset**"
   ]
  },
  {
   "cell_type": "code",
   "execution_count": 2,
   "metadata": {},
   "outputs": [
    {
     "name": "stdout",
     "output_type": "stream",
     "text": [
      "['emma', 'olivia', 'ava', 'isabella', 'sophia', 'charlotte', 'mia', 'amelia', 'harper', 'evelyn']\n"
     ]
    }
   ],
   "source": [
    "# Load data\n",
    "words = open('names.txt', 'r').read().splitlines()\n",
    "print(words[:10])"
   ]
  },
  {
   "cell_type": "code",
   "execution_count": 3,
   "metadata": {},
   "outputs": [],
   "source": [
    "# Create a dictionary that maps characters to integers and vice versa\n",
    "char2idx = {c: i+1 for i, c in enumerate('abcdefghijklmnopqrstuvwxyz')}\n",
    "char2idx['.'] = 0 # special character for marking start and end of a word\n",
    "idx2char = {i: c for c, i in char2idx.items()}"
   ]
  },
  {
   "cell_type": "code",
   "execution_count": 5,
   "metadata": {},
   "outputs": [
    {
     "name": "stdout",
     "output_type": "stream",
     "text": [
      "torch.Size([182580, 3]) torch.Size([182580]) torch.int64 torch.int64\n",
      "torch.Size([22767, 3]) torch.Size([22767]) torch.int64 torch.int64\n",
      "torch.Size([22799, 3]) torch.Size([22799]) torch.int64 torch.int64\n"
     ]
    }
   ],
   "source": [
    "# Form training pairs (context, target characters)\n",
    "block_size = 3 # context size for next character prediction\n",
    "\n",
    "def build_dataset(words):\n",
    "    X, Y = [], []\n",
    "    for word in words:\n",
    "        w2idx = [0] * block_size + [char2idx[c] for c in word] + [0]\n",
    "        for i in range(len(w2idx) - block_size):\n",
    "            X.append(w2idx[i:i+block_size])\n",
    "            Y.append(w2idx[i+block_size])\n",
    "\n",
    "    X = torch.tensor(X)\n",
    "    Y = torch.tensor(Y)\n",
    "    print(X.shape, Y.shape, X.dtype, Y.dtype)\n",
    "    return X, Y\n",
    "\n",
    "random.seed(42)\n",
    "random.shuffle(words)\n",
    "n1 = int(len(words)*0.8)\n",
    "n2 = int(len(words)*0.9)\n",
    "\n",
    "X_train, Y_train = build_dataset(words[:n1]) # 80% of words\n",
    "X_val, Y_val = build_dataset(words[n1:n2]) # 10% of words\n",
    "X_test, Y_test = build_dataset(words[n2:]) # 10% of words\n",
    "\n",
    "# print first 10 samples of X_train and Y_train\n",
    "# for i in range(len(Y_train[:10])):\n",
    "#     print(''.join([idx2char[idx.item()] for idx in X_train[i]]), '->', idx2char[Y_train[i].item()])"
   ]
  },
  {
   "cell_type": "markdown",
   "metadata": {},
   "source": [
    "# **MLP**\n",
    "\n",
    "We will use a simple MLP with an embedding layer for the input (shared across all characters), one hidden layer, and a softmax output layer. The approach is similar to the one used in the paper [Bengio et al. 2003](https://www.jmlr.org/papers/volume3/bengio03a/bengio03a.pdf).\n",
    "\n",
    "1. **Embedding Layer**: As done in `mm_intro.ipynb`, characters are represented as one-hot vectors and passed through an embedding layer to obtain a dense representation. Regarding the implementation, we observe that a matrix multiplication of one-hot vectors with an embedding matrix is equivalent to a lookup in the embedding matrix. This can be implemented using simple indexing operations in PyTorch which is a lot more efficient than matrix multiplication: `emb = C[X]`.\n",
    "2. **Hidden Layer**: The hidden layer is a fully connected layer with weights and biases. The input to the hidden layer is the concatenation of the embeddings of the three characters in the context window. To perform this concatenation, we use the `view` function in PyTorch which is extremely efficient as it doesn't directly manipulate the data in memory but simply changes its interpretation. \n",
    "3. **Output Layer**: The output layer is a fully connected layer with weights and biases. The output of the hidden layer is passed through this layer to obtain the logits for each character in the vocabulary. \n",
    "4. **Loss**: Instead of manually implementing the softmax and cross-entropy loss to compute the negative log-likelihood from the logits as we did in `mm_intro.ipynb`, we use PyTorch's `torch.nn.functional.cross_entropy` function which combines the two operations into one and is numerically not only more stable but also more efficient in the forward and backward passes. This is because the softmax and cross-entropy operations are fused into a single kernel and computed together. For more info, refer to the [YoutTube video](https://youtu.be/TCH_1BHY58I?t=1968) associated with this tutorial.\n",
    "\n",
    "Note that when implementing models in PyTorch, it's always important to double-check the shapes of the tensors at each step using a small batch of data to make sure that the operations are being performed as intended."
   ]
  },
  {
   "cell_type": "code",
   "execution_count": 146,
   "metadata": {},
   "outputs": [
    {
     "name": "stdout",
     "output_type": "stream",
     "text": [
      "Number of parameters: 12097\n"
     ]
    }
   ],
   "source": [
    "# Hyperparameters\n",
    "emb_dim = 10 # embedding dimension\n",
    "h1_dim = 200 # hidden layer dimension\n",
    "\n",
    "# For reproducibility\n",
    "g = torch.Generator().manual_seed(2147483647)\n",
    "\n",
    "# Embedding layer\n",
    "C = torch.randn((27, emb_dim), generator=g) # shape: (vocab_size, emb_dim)\n",
    "# Hidden layer\n",
    "W1 = torch.randn((block_size * emb_dim, h1_dim), generator=g)  * ((5/3) / (block_size * emb_dim)**0.5) # kaiming init, shape: (block_size * emb_dim, h1_dim)\n",
    "# b1 = torch.randn((h1_dim), generator=g) * 0.01 # shape: (h1_dim)\n",
    "bn1_gain = torch.ones((h1_dim))\n",
    "bn1_bias = torch.zeros((h1_dim))\n",
    "bn1_mean_running = torch.zeros((h1_dim)) # running mean, no gradients\n",
    "bn1_std_running = torch.ones((h1_dim)) # running variance, no gradients\n",
    "# Output layer\n",
    "W2 = torch.randn((h1_dim, 27), generator=g) * 0.01 # shape: (h1_dim, vocab_size)\n",
    "b2 = torch.zeros((27)) # shape: (vocab_size)\n",
    "\n",
    "parameters = [C, W1, bn1_gain, bn1_bias, W2, b2] # remove b1\n",
    "for p in parameters:\n",
    "    p.requires_grad = True\n",
    "print('Number of parameters:', sum([p.numel() for p in parameters]))"
   ]
  },
  {
   "cell_type": "markdown",
   "metadata": {},
   "source": [
    "# **Training**\n",
    "\n",
    "Once you have built your model it's good practice to check that it's working as expected by overfitting it on a small batch of data. This means that the model should be able to memorize the data and achieve a loss of 0. \n",
    "\n",
    "In our case, we overfit the model to the first five entries of our `words` dataset by rerunning the training set construction code above with `words[:5]`. We then train the model for 1000 epochs and observe that the loss does indeed decrease significantly (to $0.2535$). The reason, however, why we are not able to achieve a loss of $0$, despite having a relatively large model of $3481$ parameters for only five words (32 samples), is because in some cases there is more than one possible next character given the context window. For example, in the 32 samples, the context window \"...\" appears multiple times and is followed by different characters. Hence, there is some inherent ambiguity in the data which prevents the model from achieving a loss of $0$.\n",
    "\n",
    "To compare the model's predictions with our labels `Y`, we can use the `torch.argmax` function along the first dimension of the `logits` to obtain the index of the character with the highest probability and compare the two."
   ]
  },
  {
   "cell_type": "code",
   "execution_count": 141,
   "metadata": {},
   "outputs": [],
   "source": [
    "# Stat tracking\n",
    "lre = torch.linspace(-3, 0, 1000)\n",
    "lrs = 10 ** lre # log scale LRs over range [1e-3, 1]\n",
    "lr_i = []\n",
    "loss_i = []"
   ]
  },
  {
   "cell_type": "code",
   "execution_count": 149,
   "metadata": {},
   "outputs": [],
   "source": [
    "batch_size = 32\n",
    "max_steps = 50000\n",
    "learning_rate = 0.01\n",
    "\n",
    "# Training loop\n",
    "for i in range(max_steps):\n",
    "    # mini-batch sampling\n",
    "    batch_idxs = torch.randperm(len(Y_train))[:batch_size]\n",
    "    X_batch, Y_batch = X_train[batch_idxs], Y_train[batch_idxs]\n",
    "  \n",
    "    # forward pass\n",
    "    emb = C[X_batch] # shape: (#samples, block_size, emb_dim) \n",
    "    emb_cat = emb.view(-1, block_size * emb_dim) # shape: (#samples, block_size * emb_dim)\n",
    "    h_preact = emb_cat @ W1 # + b1, bias removed due to BN, shape: (#samples, hidden_dim)\n",
    "    bn_mean = h_preact.mean(dim=0, keepdim=True) # shape: (1, hidden_dim)\n",
    "    bn_std = h_preact.std(dim=0, keepdim=True) # shape: (1, hidden_dim)\n",
    "    h_preact = bn1_gain * (h_preact - bn_mean) / (bn_std + 1e-5) + bn1_bias\n",
    "    with torch.no_grad():\n",
    "        bn1_mean_running = 0.999 * bn1_mean_running + 0.001 * bn_mean\n",
    "        bn1_std_running = 0.999 * bn1_std_running + 0.001 * bn_std\n",
    "    h = torch.tanh(h_preact)\n",
    "    logits = h @ W2 + b2 # shape: (#samples, vocab_size)\n",
    "    loss = F.cross_entropy(logits, Y_batch) # shape: (1)\n",
    "\n",
    "    # backward pass\n",
    "    for p in parameters:\n",
    "        p.grad = None\n",
    "    loss.backward()\n",
    "\n",
    "    # update parameters\n",
    "    lr = learning_rate # during LR tuning, use lrs[i] instead\n",
    "    for p in parameters:\n",
    "        p.data -= lr * p.grad\n",
    "\n",
    "    # track stats\n",
    "    # lr_i.append(lre[i])\n",
    "    loss_i.append(loss.log10().item())\n",
    "\n",
    "# Plot loss vs. learning rate\n",
    "# plt.plot(lr_i, loss_i)"
   ]
  },
  {
   "cell_type": "code",
   "execution_count": 150,
   "metadata": {},
   "outputs": [
    {
     "data": {
      "image/png": "[encoded data removed]",
      "text/plain": [
       "<Figure size 640x480 with 1 Axes>"
      ]
     },
     "metadata": {},
     "output_type": "display_data"
    }
   ],
   "source": [
    "# A thick band of the loss curve indicates that our batch size may be too small, i.e. the gradients are too noisy.\n",
    "plt.plot([10 ** v for v in loss_i]);"
   ]
  },
  {
   "cell_type": "markdown",
   "metadata": {},
   "source": [
    "## Learning Rate\n",
    "\n",
    "When training a model, it's important to pick the right learning rate. If the learning rate is too small, the model will take a long time to converge. If the learning rate is too large, the model will diverge and the loss will increase. One simple approach to find the optimal learning rate is to test a range of learning rates and pick the one that achieves the lowest loss. In particular, we may choose to test $1000$ learning rates logarithmically over the range $[1\\mathrm{e}{-3}, 1]$. For each learning rate we run a single batch of training and record the loss. We then plot the loss against the learning rate and pick the learning rate that achieves the lowest loss, `plt.plot(lr_i, loss_i)`. After training our model for a sufficient number of epochs at this optimal learning rate, we can additionally perform a _learning rate decay_ (e.g. $\\times 0.1$) to potentially achieve an even lower loss."
   ]
  },
  {
   "cell_type": "markdown",
   "metadata": {},
   "source": [
    "## Weight Initialization\n",
    "\n",
    "Another important aspect of training a model is to initialize the weights of the model properly. This can have a significant impact on the convergence of the model. It is often the case that for any given task we're solving, we know approximately what the scale of the loss should be to begin with. For example, in our case, we know that the loss should be around $-\\log(1/27) \\approx 3.2958$ (assuming a uniform distribution over the vocabulary to start). Hence, we can initialize the weights of the model such that the loss is around this value. In particular, let's try to initialize the weights of the output layer using a normal distribution with mean $0$ and standard deviation $\\sigma = 0.01$ and set the biases to $0$. This is because for the outputs (logits), we don't want to be adding any unnecessary non-uniform bias which would shift the distribution away from the uniform distribution. \n",
    "\n",
    "```python\n",
    "W2 = torch.randn((h1_dim, 27), generator=g) * 0.01 \n",
    "b2 = torch.zeros((27))\n",
    "```\n",
    "\n",
    "When we improve the initialization of these weights, we observe that the initial loss in the first training iteration is indeed a lot lower than before and around the expected value of $3.2958$. As a consequence of this improved weight inititialization, we observe that the loss curve doesn't resemble a hockey stick anymore and the model is able to spend more time in the region of low loss, improving the convergence of the model."
   ]
  },
  {
   "cell_type": "markdown",
   "metadata": {},
   "source": [
    "## Activation Function Saturation\n",
    "\n",
    "When using non-linearities such as the sigmoid or tanh activation functions, it's important to be aware of the saturation problem and to understand in which range our activations lie. If a large number of activations lie in the saturated region of the non-linearity, then the gradients will be very small or even zero and the model will not be able to learn effectively. To analyse this we can plot the distribution of the activations (and pre-activations) of the hidden layer.\n",
    "\n",
    "```python\n",
    "plt.hist(h_preact.view(-1).tolist(), 50);\n",
    "plt.hist(h.view(-1).tolist(), 50);\n",
    "```\n",
    "\n",
    "We observe that the tanh activations of the hidden layer are indeed largely saturated, i.e. close to $-1$ or $1$. This is because the pre-activations of the hidden layer are large (in the range of $[-20, 20]$) and hence these large values are squashed into the saturated region of the tanh non-linearity. The severity of this issue is understood when we recognize that the local gradient of the tanh function is $1 - t^2$ where $t$ is the value of the tanh function. Hence, when an activation $t$ is close to $1$ or $-1$, the local gradient is close to $0$ and the back-propagating gradients will not be able to flow through these activation nodes. The zero-gradient issue also makes sense intuitively, if we consider that slightly chaning a value (preactivation) that lies in the saturated region will not move it out of this region and hence not affect the loss function in any way, i.e. the gradient is zero. Note also the fact gradients flowing through a tanh node can only ever decrease (scaled by $1 - t^2$ which lies in the range of $[0, 1]$).\n",
    "\n",
    "In addition to plotting histograms, we can also plot an \"activation map\" to see across multiple samples, which activations are above a certain threshold. \n",
    "\n",
    "```python\n",
    "plt.figure(figsize=(12, 4))\n",
    "plt.imshow(h.abs() > 0.99, cmap='gray', interpolation='nearest');\n",
    "```\n",
    "\n",
    "One major problem would be if this map show an entire column of only white pixels. This would indicate a dead neuron which is always outputting $1$ or $-1$ regardless of the input and hence not learning anything. A dead neuron may be caused by inappropriate weight initialization or also during training if sudden large gradient knocks the neuron off the data manifold and into a saturated region from which it can't recover. We could interpret this as a permanent \"brain damage\" of the network w.r.t. this neuron.\n",
    "\n",
    "### Solution: Weight Initialization\n",
    "\n",
    "In our case we visualised the plots after the first training iteration and observe the overly saturated activations. Thus, to resolve this issue we want to try to reduce the size of the pre-activations. This can be achieved by adapting the weight initialization of the hidden layer, similar to what we did for the output layer. We simply want to scale the Gaussian distribution by a small factor such that the pre-actiavtions are smaller and hence only a small number of activations are saturated. This will also speed up the convergence of the model as the neurons receive more non-zero gradients to learn from.\n",
    "\n",
    "Now, instead of manually guessing the factor by which we want to scale the Gaussian-initialized weights which would become increasingly more tedious the deeper our networks, we can use a more principled approach. In particular, the idea is to scale the variance of the Gaussian by an amount that encourages the pre-activations and hence also the activations to take on reasonable values without being too small (where the activations do nothing) or too large (where the activations are oversaturated), effectively remaining in the range of unit Gaussian. To achieve this we look to the paper [Kaiming He et al. 2015](https://arxiv.org/pdf/1502.01852.pdf) which proposes the following initialization scheme for the weights of a fully connected layer: \n",
    "\n",
    "$$\n",
    "W \\sim \\mathcal{N}(0, \\sqrt{\\frac{g}{n_{in}}})\n",
    "$$\n",
    "\n",
    "where $n_{in}$ is the number of inputs to the layer and $g$ is the gain factor. The gain factor is chosen such that the variance of the pre-activations is $1$ (unit Gaussian) and depends on the non-linearity used, refer to the [PyTorch documentation](https://pytorch.org/docs/stable/nn.init.html#torch.nn.init.calculate_gain) for more details. In our case, we use the tanh non-linearity and hence set $g = 5/3$:\n",
    "\n",
    "```python\n",
    "W1 = torch.randn((block_size * emb_dim, h1_dim), generator=g) * ((5/3) / (block_size * emb_dim)**0.5) # kaiming init\n",
    "```\n",
    "\n",
    "### Solution: Batch Normalization\n",
    "\n",
    "Another solution to the saturation problem is to use batch normalization. This is a technique that was introduced in the paper [Sergey Ioffe et al. 2015](https://arxiv.org/pdf/1502.03167.pdf) and is now widely used in practice. The idea is to normalize the pre-activations _across a batch_ to have zero mean and unit variance at least at the beginning of training. This is achieved by computing the mean and variance of the pre-activations over the batch and then normalizing the pre-activations using these statistics. The normalization formula is given by:\n",
    "\n",
    "$$\n",
    "\\hat{x} = \\frac{x - \\mu}{\\sqrt{\\sigma^2 + \\epsilon}}\n",
    "$$\n",
    "\n",
    "where $\\epsilon$ is a small constant to avoid division by zero, e.g. $1\\mathrm{e}{-5}$. This normalization encourages the activations to be unit Gaussian. However, we don't either want to constrain the model too much by forcing the activations to be unit Gaussian at all times (perhaps some neurons should be more trigger happy, others more quiet). Therefore we also introduce a learnable scale (`gain`) and shift (`bias`) parameter for each neuron which allows the model to learn the optimal scale and shift for each neuron. In the beginning, however, these parameters will be initialized to $1$ and $0$ respectively, i.e. the pre-activations will be normalized to have zero mean and unit variance.\n",
    "\n",
    "```python\n",
    "# batch norm parameters\n",
    "bn1_gain = torch.ones((h1_dim), requires_grad=True)\n",
    "bn1_bias = torch.zeros((h1_dim), requires_grad=True)\n",
    "bn1_mean_running = torch.zeros((h1_dim))\n",
    "bn1_std_running = torch.ones((h1_dim))\n",
    "\n",
    "# in forward pass\n",
    "bn1_mean = h_preact.mean(0, keepdim=True)\n",
    "bn1_std = h_preact.std(0, keepdim=True)\n",
    "h_preact = bn1_gain * (h_preact - bn1_mean) / (bn1_std + 1e-5) + bn1_bias\n",
    "with torch.no_grad():\n",
    "    bn1_mean_running = 0.999 * bn1_mean_running + 0.001 * bn1_mean\n",
    "    bn1_std_running = 0.999 * bn1_std_running + 0.001 * bn1_std\n",
    "```\n",
    "\n",
    "One strange thing that happens when we add the _BatchNorm_ layer is that the samples which were previously processed independently are now connected through the BatchNorm layer (due to the normalization operation). In particular, the mean and standard deviation that is used to shift and scale a sample depends on which batch the sample appears in. This effect is known as \"batch noise\" and actually forms a type of regularization or data augmentation. As a consequence, the model is forced to learn a more robust representation of the data.\n",
    "\n",
    "One issue that arises during inference is that we may want to perform a prediction using only a single sample, i.e. not a batch. How can we then compute the batch norm statistics to apply in the forward pass? To achieve this, we can compute a running mean and variance of the batch norm layer during training. These average statistics are then used during inference to normalize the samples.\n",
    "\n",
    "Finally, if we look at the forward pass, we notice that the _bias_ applied in the linear layer prior to the BatchNorm is redundant as it will be canceled out by the BatchNorm layer. Hence, we can remove the bias from the linear layer and instead rely on the BatchNorm bias to shift the pre-activations."
   ]
  },
  {
   "cell_type": "code",
   "execution_count": 112,
   "metadata": {},
   "outputs": [
    {
     "data": {
      "image/png": "[encoded data removed]",
      "text/plain": [
       "<Figure size 1200x400 with 2 Axes>"
      ]
     },
     "metadata": {},
     "output_type": "display_data"
    }
   ],
   "source": [
    "# Plotting the pre-activations and activations of the hidden layer\n",
    "fig, (ax1, ax2) = plt.subplots(1, 2, figsize=(12, 4))\n",
    "ax1.hist(h_preact.view(-1).tolist(), 50);\n",
    "ax2.hist(h.view(-1).tolist(), 50);\n",
    "ax1.set_title('Pre-activations of hidden layer');\n",
    "ax2.set_title('Activations of hidden layer');"
   ]
  },
  {
   "cell_type": "code",
   "execution_count": 113,
   "metadata": {},
   "outputs": [
    {
     "data": {
      "image/png": "[encoded data removed]",
      "text/plain": [
       "<Figure size 1200x400 with 1 Axes>"
      ]
     },
     "metadata": {},
     "output_type": "display_data"
    }
   ],
   "source": [
    "# Activations above the saturation threshold\n",
    "plt.figure(figsize=(12, 4))\n",
    "plt.imshow(h.abs() > 0.99, cmap='gray', interpolation='nearest');"
   ]
  },
  {
   "cell_type": "markdown",
   "metadata": {},
   "source": [
    "## Validation\n",
    "\n",
    "Once we have trained our model, we want to evaluate its performance on a validation set. In particular, we want to check that the model is not overfitting to the training set and that it is able to generalize to unseen data. To do this, we compute the loss on the validation set and compare it to the loss on the training set. If the loss on the validation set is significantly higher than the loss on the training set, then the model is overfitting. In this case, we may want to consider using a smaller model or adding regularization techniques such as dropout. However, if the loss on the validation set is similar to the loss on the training set, then the model is underfitting and can expect to achieve better performance by using a larger model.\n",
    "\n",
    "The trick when adapting the model to these findings is to do it systematically. We may begin increasing the size of one layer and be aware of bottlenecks that may arise due to the size of the other layers not being large enough. We may also want to consider adding more layers to the model. In general, it's good practice to start with a small model and gradually increase its size until we start to see diminishing returns. In our case we started with an embedding size of $2$ per character and a hidden layer of size $100$. We then increased the embedding size to $10$ and the hidden layer size to $200$ to achieve a validation loss of $2.1983$ and a training loss of $2.1703$, when training for $50\\text{k}$ steps with $\\text{LR}{=}0.1$ and another $50\\text{k}$ steps with $\\text{LR}{=}0.01$. Batch size was $32$. At this point our model may be big enough where it's starting to overfit to the training set. "
   ]
  },
  {
   "cell_type": "code",
   "execution_count": 151,
   "metadata": {},
   "outputs": [
    {
     "name": "stdout",
     "output_type": "stream",
     "text": [
      "Loss: 2.0911436080932617\n",
      "Loss: 2.1237456798553467\n"
     ]
    }
   ],
   "source": [
    "# forward pass for validation / testing\n",
    "def split_losss(split):\n",
    "    X, Y = {\n",
    "        'train': (X_train, Y_train),\n",
    "        'val': (X_val, Y_val),\n",
    "        'test': (X_test, Y_test)\n",
    "    }[split] \n",
    "    with torch.no_grad():\n",
    "        emb = C[X] \n",
    "        emb_cat = emb.view(-1, block_size * emb_dim)\n",
    "        h_preact = emb_cat @ W1 # + b1\n",
    "        h_preact = bn1_gain * (h_preact - bn1_mean_running) / (bn1_std_running + 1e-5) + bn1_bias\n",
    "        h = torch.tanh(h_preact)\n",
    "        logits = h @ W2 + b2 \n",
    "        loss = F.cross_entropy(logits, Y) \n",
    "        print('Loss:', loss.item())\n",
    "\n",
    "split_losss('train')\n",
    "split_losss('val')"
   ]
  },
  {
   "cell_type": "markdown",
   "metadata": {},
   "source": [
    "## Embeddings\n",
    "\n",
    "We can plot the embeddings of the characters in our vocabulary to see if there are any interesting patterns. For example, we may observe that vowels are clustered together. Furthermore, some of the more rare letters such as 'q' form outliers. As characters that are clustered together have similar embeddings, they may be interchangeable in some contexts. For example, the names \"John\" and \"Jahn\" are both valid names and the model should be able to predict the next character correctly in both cases."
   ]
  },
  {
   "cell_type": "code",
   "execution_count": null,
   "metadata": {},
   "outputs": [],
   "source": [
    "# Currently only works for 2D embeddings\n",
    "plt.figure(figsize=(8,8))\n",
    "plt.scatter(C[:,0].data, C[:,1].data, s=200)\n",
    "for i in range(C.shape[0]):\n",
    "    plt.text(C[i,0].item(), C[i,1].item(), idx2char[i], ha=\"center\", va=\"center\", color=\"white\")\n",
    "plt.grid('minor')"
   ]
  },
  {
   "cell_type": "markdown",
   "metadata": {},
   "source": [
    "## Inference\n",
    "\n",
    "Once we have trained our model, we can use it to generate new names. To do this, we first feed the model a context window of three characters and sample the next character from the distribution over the vocabulary. We then shift the context window by one character and repeat the process. We continue this process until we sample the special token '.' which indicates the end of a name."
   ]
  },
  {
   "cell_type": "code",
   "execution_count": 131,
   "metadata": {},
   "outputs": [
    {
     "name": "stdout",
     "output_type": "stream",
     "text": [
      "piyah.\n",
      "azelma.\n",
      "erik.\n",
      "simerneliz.\n",
      "natal.\n",
      "dem.\n",
      "kenderee.\n",
      "canab.\n",
      "evin.\n",
      "sieleigh.\n"
     ]
    }
   ],
   "source": [
    "for _ in range(10):\n",
    "    name = ''\n",
    "    context = [0] * block_size\n",
    "    while True:\n",
    "        # forward pass\n",
    "        emb = C[context] \n",
    "        h = torch.tanh(emb.view(1, -1) @ W1 + b1) \n",
    "        logits = h @ W2 + b2\n",
    "        probs = F.softmax(logits, dim=1)\n",
    "        # sample next character\n",
    "        i = torch.multinomial(probs, num_samples=1, generator=g).item()\n",
    "        context = context[1:] + [i]\n",
    "        name += idx2char[i]\n",
    "        if i == 0: \n",
    "            break\n",
    "    print(name)"
   ]
  }
 ],
 "metadata": {
  "kernelspec": {
   "display_name": "torch_env",
   "language": "python",
   "name": "python3"
  },
  "language_info": {
   "codemirror_mode": {
    "name": "ipython",
    "version": 3
   },
   "file_extension": ".py",
   "mimetype": "text/x-python",
   "name": "python",
   "nbconvert_exporter": "python",
   "pygments_lexer": "ipython3",
   "version": "3.10.13"
  }
 },
 "nbformat": 4,
 "nbformat_minor": 2
}
